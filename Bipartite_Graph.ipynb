{
  "nbformat": 4,
  "nbformat_minor": 0,
  "metadata": {
    "colab": {
      "name": "Bipartite Graph.ipynb",
      "provenance": [],
      "authorship_tag": "ABX9TyNeectcj7bDOWWq9V5Ap3cX",
      "include_colab_link": true
    },
    "kernelspec": {
      "name": "python3",
      "display_name": "Python 3"
    }
  },
  "cells": [
    {
      "cell_type": "markdown",
      "metadata": {
        "id": "view-in-github",
        "colab_type": "text"
      },
      "source": [
        "<a href=\"https://colab.research.google.com/github/mozhgans/Error-analysis-of-concept-embedding-Approaches/blob/main/Bipartite_Graph.ipynb\" target=\"_parent\"><img src=\"https://colab.research.google.com/assets/colab-badge.svg\" alt=\"Open In Colab\"/></a>"
      ]
    },
    {
      "cell_type": "code",
      "metadata": {
        "colab": {
          "base_uri": "https://localhost:8080/",
          "height": 356
        },
        "id": "hvWciXAJwO3i",
        "outputId": "73762523-f7c3-472e-9d93-fb333e3f2a1a"
      },
      "source": [
        "import pandas as pd\r\n",
        "import networkx as nx\r\n",
        "import matplotlib.pyplot as plt\r\n",
        "\r\n",
        "df = pd.DataFrame(\r\n",
        "    {'IP': ['10.20.30.40',\r\n",
        "      '30.50.70.90',\r\n",
        "      '10.20.30.41',\r\n",
        "      '10.20.30.42',\r\n",
        "      '90.80.70.10'],\r\n",
        "     'domain': ['example.org',\r\n",
        "      'site.com',\r\n",
        "      'example.org',\r\n",
        "      'example.org',\r\n",
        "      'website.com'],\r\n",
        "     'subdomain': ['sense1', 'something', 'sense2', 'sense3', 'else']})\r\n",
        "\r\n",
        "B = nx.Graph()\r\n",
        "B.add_nodes_from(df['subdomain'], bipartite=0)\r\n",
        "B.add_nodes_from(df['domain'], bipartite=1)\r\n",
        "B.add_weighted_edges_from(\r\n",
        "    [(row['domain'], row['subdomain'], 1) for idx, row in df.iterrows()], \r\n",
        "    weight='weight')\r\n",
        "print(B.edges(data=True))\r\n",
        "# [('sense1', 'example.org', {'weight': 1}), ('sense3', 'example.org', {'weight': 1}), ('sense2', 'example.org', {'weight': 1}), ('website.com', 'else', {'weight': 1}), ('site.com', 'something', {'weight': 1})]\r\n",
        "\r\n",
        "pos = {node:[0, i] for i,node in enumerate(df['domain'])}\r\n",
        "pos.update({node:[1, i] for i,node in enumerate(df['subdomain'])})\r\n",
        "nx.draw(B, pos, with_labels=False)\r\n",
        "for p in pos:  # raise text positions\r\n",
        "    pos[p][1] += 0.25\r\n",
        "nx.draw_networkx_labels(B, pos)\r\n",
        "\r\n",
        "plt.show()"
      ],
      "execution_count": 16,
      "outputs": [
        {
          "output_type": "stream",
          "text": [
            "[('sense1', 'example.org', {'weight': 1}), ('something', 'site.com', {'weight': 1}), ('sense2', 'example.org', {'weight': 1}), ('sense3', 'example.org', {'weight': 1}), ('else', 'website.com', {'weight': 1})]\n"
          ],
          "name": "stdout"
        },
        {
          "output_type": "display_data",
          "data": {
            "image/png": "[encoded data removed]",
            "text/plain": [
              "<Figure size 432x288 with 1 Axes>"
            ]
          },
          "metadata": {
            "tags": []
          }
        }
      ]
    }
  ]
}