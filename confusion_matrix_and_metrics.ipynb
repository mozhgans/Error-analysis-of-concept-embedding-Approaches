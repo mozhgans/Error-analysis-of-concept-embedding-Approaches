{
  "nbformat": 4,
  "nbformat_minor": 0,
  "metadata": {
    "colab": {
      "name": "confusion matrix and metrics.ipynb",
      "provenance": [],
      "authorship_tag": "ABX9TyNSYULBpvykW9GXndzKTIL1",
      "include_colab_link": true
    },
    "kernelspec": {
      "name": "python3",
      "display_name": "Python 3"
    }
  },
  "cells": [
    {
      "cell_type": "markdown",
      "metadata": {
        "id": "view-in-github",
        "colab_type": "text"
      },
      "source": [
        "<a href=\"https://colab.research.google.com/github/mozhgans/Error-analysis-of-concept-embedding-Approaches/blob/main/confusion_matrix_and_metrics.ipynb\" target=\"_parent\"><img src=\"https://colab.research.google.com/assets/colab-badge.svg\" alt=\"Open In Colab\"/></a>"
      ]
    },
    {
      "cell_type": "markdown",
      "metadata": {
        "id": "RvnLngYew6U4"
      },
      "source": [
        "confusion matrix\r\n"
      ]
    },
    {
      "cell_type": "code",
      "metadata": {
        "id": "3DB3qNw7wzwi"
      },
      "source": [
        "# Confusion Matrix\r\n",
        "from sklearn.metrics import confusion_matrix\r\n",
        "confusion_matrix(y_true, y_pred)\r\n",
        "# Accuracy\r\n",
        "from sklearn.metrics import accuracy_score\r\n",
        "accuracy_score(y_true, y_pred)\r\n",
        "# Recall\r\n",
        "from sklearn.metrics import recall_score\r\n",
        "recall_score(y_true, y_pred, average=None)\r\n",
        "# Precision\r\n",
        "from sklearn.metrics import precision_score\r\n",
        "precision_score(y_true, y_pred, average=None)"
      ],
      "execution_count": null,
      "outputs": []
    },
    {
      "cell_type": "markdown",
      "metadata": {
        "id": "Qm5lLMVnw9DJ"
      },
      "source": [
        "calculating F1 score in different ways:\r\n"
      ]
    },
    {
      "cell_type": "code",
      "metadata": {
        "id": "ABq1VhkAw3cy"
      },
      "source": [
        "# Method 1: sklearn\r\n",
        "from sklearn.metrics import f1_score\r\n",
        "f1_score(y_true, y_pred, average=None)\r\n",
        "# Method 2: Manual Calculation\r\n",
        "F1 = 2 * (precision * recall) / (precision + recall)\r\n",
        "# Method 3: Classification report [BONUS]\r\n",
        "from sklearn.metrics import classification_report\r\n",
        "print(classification_report(y_true, y_pred, target_names=target_names))"
      ],
      "execution_count": null,
      "outputs": []
    }
  ]
}